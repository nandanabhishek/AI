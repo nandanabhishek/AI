{
 "cells": [
  {
   "cell_type": "markdown",
   "id": "17682af8",
   "metadata": {},
   "source": [
    "## WAP in Python to create three different strings, concatenate all three strings and print."
   ]
  },
  {
   "cell_type": "code",
   "execution_count": 28,
   "id": "288eb60d",
   "metadata": {
    "scrolled": true
   },
   "outputs": [
    {
     "name": "stdout",
     "output_type": "stream",
     "text": [
      "Enter first string : I\n",
      "Enter second string : am\n",
      "Enter third string : fine\n",
      "\n",
      "The final string (without space in between them) after concatenation of input strings : Iamfine\n",
      "\n",
      "The final string (with space in between them) after concatenation of input strings : I am fine\n"
     ]
    }
   ],
   "source": [
    "str1 = input('Enter first string : ')\n",
    "str2 = input('Enter second string : ')\n",
    "str3 = input('Enter third string : ')\n",
    "\n",
    "concat1 = str1 + str2 + str3\n",
    "concat2 = str1 + ' ' + str2 + ' ' + str3\n",
    "\n",
    "print('\\nThe final string (without space in between them) after concatenation of input strings :', concat1)\n",
    "print('\\nThe final string (with space in between them) after concatenation of input strings :', concat2)"
   ]
  },
  {
   "cell_type": "markdown",
   "id": "b4fcfcb5",
   "metadata": {},
   "source": [
    "## WAP to demonstrate working with dictionaries in Python (adding item in dictionary, changing value of a key in dictionary, remove items from dictionary, know the length of dictionary, and copy the same dictionary) in same file."
   ]
  },
  {
   "cell_type": "code",
   "execution_count": null,
   "id": "6732ac0f",
   "metadata": {},
   "outputs": [],
   "source": [
    "\n",
    "# creating an empty dictionary\n",
    "my_dict = {}\n",
    "\n",
    "while True:\n",
    "    print('-- Select Operation --')\n",
    "    print('1. Add item in dictionary')\n",
    "    print('2. Update value in dictionary')\n",
    "    print('3. Remove item from dictionary')\n",
    "    print('4. Find length of dictionary')\n",
    "    print('5. To copy one dictionary to other')\n",
    "    print('6. To exit the program')\n",
    "\n",
    "    choice = input('\\nEnter choice :')\n",
    "    print()\n",
    "\n",
    "    if choice == '1':\n",
    "        print('Adding item in dictionary :-')\n",
    "        key = input('Enter key :')\n",
    "        value = input('Enter value :')\n",
    "        my_dict[key] = value\n",
    "\n",
    "        print('\\nmy_dict :', my_dict)\n",
    "    \n",
    "\n",
    "    elif choice == '2':\n",
    "        print('Updating item in dictionary :-')\n",
    "        key = input('Enter key to update its value :')\n",
    "        new_value = input('Enter new value :')\n",
    "        if key in my_dict:\n",
    "            my_dict[key] = new_value\n",
    "        else:\n",
    "            print('Key does not exist in dictionary !!!')\n",
    "\n",
    "        print('\\nmy_dict :', my_dict)\n",
    "        \n",
    "\n",
    "    elif choice == '3':\n",
    "        print('Removing element from dictionary :-')\n",
    "        key = input('Enter key to remove from dictionary :')\n",
    "        if key in my_dict:\n",
    "            my_dict.pop(key)\n",
    "        else:\n",
    "            print('Key does not exist in dixtionary !!!')\n",
    "\n",
    "        print('\\nmy_dict :', my_dict)\n",
    "        \n",
    "\n",
    "    elif choice == '4':\n",
    "        print('Dictionary :', my_dict)\n",
    "        print('\\nThe length of dictionary :', len(my_dict))\n",
    "\n",
    "    elif choice == '5':\n",
    "        print('Creating copy of dictionary :-')\n",
    "        new_dict = my_dict.copy()  # this function creates the shallow copy of dictionary\n",
    "        print('The shallow copy of the dictionary is :', new_dict)\n",
    "\n",
    "    elif choice == '6':\n",
    "        exit()\n",
    "\n",
    "    else:\n",
    "        print('\\nInvalid Choice')\n",
    "\n",
    "    print('')\n",
    "    continue\n"
   ]
  },
  {
   "cell_type": "markdown",
   "id": "5af8c2f3",
   "metadata": {},
   "source": [
    "## WAP in Python that inputs a text file. The program should print all of the unique words in the file in alphabetical order."
   ]
  },
  {
   "cell_type": "code",
   "execution_count": 3,
   "id": "02b96353",
   "metadata": {},
   "outputs": [
    {
     "name": "stdout",
     "output_type": "stream",
     "text": [
      "Total number of words : 56\n",
      "\n",
      "Total number of unique words : 40\n",
      "\n",
      "Unique words in sorted order :\n",
      "a\n",
      "ai\n",
      "and\n",
      "as\n",
      "basic\n",
      "cannot\n",
      "capable\n",
      "decision\n",
      "experiences\n",
      "follows\n",
      "front\n",
      "implies\n",
      "in\n",
      "inform\n",
      "intelligence\n",
      "is\n",
      "it\n",
      "its\n",
      "machine\n",
      "making\n",
      "memory\n",
      "most\n",
      "name\n",
      "of\n",
      "on\n",
      "only\n",
      "past\n",
      "perceive\n",
      "principles\n",
      "react\n",
      "reactive\n",
      "real\n",
      "rely\n",
      "result\n",
      "store\n",
      "the\n",
      "time\n",
      "to\n",
      "using\n",
      "world\n"
     ]
    }
   ],
   "source": [
    "file = open('ailab.txt', 'x')\n",
    "file.write(\"A reactive machine follows the most basic of AI principles and , as its name implies , is capable of only using its intelligence to perceive and react to the world in front of it . A reactive machine cannot store a memory and as a result cannot rely on past experiences to inform decision making in real time .\")\n",
    "file.close()\n",
    "\n",
    "f = open('ailab.txt', 'r')\n",
    "f_contents = f.read()\n",
    "f.close()\n",
    "           \n",
    "string_list = f_contents.split()\n",
    "\n",
    "word_list = []\n",
    "\n",
    "for word in string_list:\n",
    "    if word.isalnum():\n",
    "        word_list.append(word)\n",
    "        \n",
    "print('Total number of words :', len(word_list))\n",
    "\n",
    "unique_words = []\n",
    "\n",
    "for word in word_list:\n",
    "    if word.lower() not in unique_words:\n",
    "        unique_words.append(word.lower())\n",
    "        \n",
    "unique_words.sort()\n",
    "print('\\nTotal number of unique words :', len(unique_words))\n",
    "\n",
    "\n",
    "print('\\nUnique words in sorted order :')\n",
    "for w in unique_words:\n",
    "    print(w)"
   ]
  }
 ],
 "metadata": {
  "kernelspec": {
   "display_name": "Python 3",
   "language": "python",
   "name": "python3"
  },
  "language_info": {
   "codemirror_mode": {
    "name": "ipython",
    "version": 3
   },
   "file_extension": ".py",
   "mimetype": "text/x-python",
   "name": "python",
   "nbconvert_exporter": "python",
   "pygments_lexer": "ipython3",
   "version": "3.8.8"
  }
 },
 "nbformat": 4,
 "nbformat_minor": 5
}
