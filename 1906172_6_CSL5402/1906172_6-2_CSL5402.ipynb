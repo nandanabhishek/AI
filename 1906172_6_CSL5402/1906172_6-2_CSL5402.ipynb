{
 "cells": [
  {
   "cell_type": "code",
   "execution_count": 1,
   "metadata": {},
   "outputs": [],
   "source": [
    "import numpy as np\n",
    "import pandas as pd\n",
    "import matplotlib.pyplot as plt\n",
    "import seaborn as sns\n",
    "sns.set()\n",
    "from sklearn.linear_model import LinearRegression\n",
    "from sklearn.metrics import mean_squared_error"
   ]
  },
  {
   "cell_type": "code",
   "execution_count": 2,
   "metadata": {},
   "outputs": [],
   "source": [
    "d_train=pd.read_csv(\"Google_Stock_Price_Train.csv\")\n",
    "d_test=pd.read_csv(\"Google_Stock_Price_Test.csv\")"
   ]
  },
  {
   "cell_type": "code",
   "execution_count": 3,
   "metadata": {},
   "outputs": [
    {
     "name": "stdout",
     "output_type": "stream",
     "text": [
      "            Date    Open    High     Low   Close      Volume\n",
      "0       1/3/2012  325.25  332.83  324.97  663.59   7380500.0\n",
      "1       1/4/2012  331.27  333.87  329.08  666.45   5749400.0\n",
      "2       1/5/2012  329.83  330.75  326.89  657.21   6590300.0\n",
      "3       1/6/2012  328.34  328.77  323.68  648.24   5405900.0\n",
      "4       1/9/2012  322.04  322.29  309.46  620.76  11688800.0\n",
      "...          ...     ...     ...     ...     ...         ...\n",
      "1253  12/23/2016  790.90  792.74  787.28  789.91    623400.0\n",
      "1254  12/27/2016  790.68  797.86  787.66  791.55    789100.0\n",
      "1255  12/28/2016  793.70  794.23  783.20  785.05   1153800.0\n",
      "1256  12/29/2016  783.33  785.93  778.92  782.79    744300.0\n",
      "1257  12/30/2016  782.75  782.78  770.41  771.82   1770000.0\n",
      "\n",
      "[1258 rows x 6 columns]\n"
     ]
    }
   ],
   "source": [
    "print(d_train)"
   ]
  },
  {
   "cell_type": "code",
   "execution_count": 4,
   "metadata": {
    "scrolled": true
   },
   "outputs": [
    {
     "name": "stdout",
     "output_type": "stream",
     "text": [
      "         Date    Open    High     Low   Close     Volume\n",
      "0    1/3/2017  778.81  789.63  775.80  786.14  1657300.0\n",
      "1    1/4/2017  788.36  791.34  783.16  786.90  1073000.0\n",
      "2    1/5/2017  786.08  794.48  785.02  794.02  1335200.0\n",
      "3    1/6/2017  795.26  807.90  792.20  806.15  1640200.0\n",
      "4    1/9/2017  806.40  809.97  802.83  806.65  1272400.0\n",
      "5   1/10/2017  807.86  809.13  803.51  804.79  1176800.0\n",
      "6   1/11/2017  805.00  808.15  801.37  807.91  1065900.0\n",
      "7   1/12/2017  807.14  807.39  799.17  806.36  1353100.0\n",
      "8   1/13/2017  807.48  811.22  806.69  807.88  1099200.0\n",
      "9   1/17/2017  807.08  807.14  800.37  804.61  1362100.0\n",
      "10  1/18/2017  805.81  806.21  800.99  806.07  1294400.0\n",
      "11  1/19/2017  805.12  809.48  801.80  802.17   919300.0\n",
      "12  1/20/2017  806.91  806.91  801.69  805.02  1670000.0\n",
      "13  1/23/2017  807.25  820.87  803.74  819.31  1963600.0\n",
      "14  1/24/2017  822.30  825.90  817.82  823.87  1474000.0\n",
      "15  1/25/2017  829.62  835.77  825.06  835.67  1494500.0\n",
      "16  1/26/2017  837.81  838.00  827.01  832.15  2973900.0\n",
      "17  1/27/2017  834.71  841.95  820.44  823.31  2965800.0\n",
      "18  1/30/2017  814.66  815.84  799.80  802.32  3246600.0\n",
      "19  1/31/2017  796.86  801.25  790.52  796.79  2160600.0\n"
     ]
    }
   ],
   "source": [
    "print(d_test)"
   ]
  },
  {
   "cell_type": "code",
   "execution_count": 5,
   "metadata": {},
   "outputs": [
    {
     "name": "stdout",
     "output_type": "stream",
     "text": [
      "Date      0\n",
      "Open      0\n",
      "High      0\n",
      "Low       0\n",
      "Close     0\n",
      "Volume    0\n",
      "dtype: int64\n"
     ]
    }
   ],
   "source": [
    "print(d_train.isnull().sum())"
   ]
  },
  {
   "cell_type": "code",
   "execution_count": 6,
   "metadata": {},
   "outputs": [
    {
     "name": "stdout",
     "output_type": "stream",
     "text": [
      "Date      0\n",
      "Open      0\n",
      "High      0\n",
      "Low       0\n",
      "Close     0\n",
      "Volume    0\n",
      "dtype: int64\n"
     ]
    }
   ],
   "source": [
    "print(d_test.isnull().sum())"
   ]
  },
  {
   "cell_type": "code",
   "execution_count": 7,
   "metadata": {},
   "outputs": [],
   "source": [
    "X_train=d_train[['Open','High','Low','Volume']].values\n",
    "y_train=d_train.iloc[:,4:5].values\n",
    "\n",
    "X_test=d_test[['Open','High','Low','Volume']].values\n",
    "y_test=d_test.iloc[:,4:5].values"
   ]
  },
  {
   "cell_type": "code",
   "execution_count": 8,
   "metadata": {
    "scrolled": false
   },
   "outputs": [
    {
     "name": "stdout",
     "output_type": "stream",
     "text": [
      "[[3.2525e+02 3.3283e+02 3.2497e+02 7.3805e+06]\n",
      " [3.3127e+02 3.3387e+02 3.2908e+02 5.7494e+06]\n",
      " [3.2983e+02 3.3075e+02 3.2689e+02 6.5903e+06]\n",
      " ...\n",
      " [7.9370e+02 7.9423e+02 7.8320e+02 1.1538e+06]\n",
      " [7.8333e+02 7.8593e+02 7.7892e+02 7.4430e+05]\n",
      " [7.8275e+02 7.8278e+02 7.7041e+02 1.7700e+06]]\n"
     ]
    }
   ],
   "source": [
    "print(X_train)"
   ]
  },
  {
   "cell_type": "code",
   "execution_count": 9,
   "metadata": {},
   "outputs": [
    {
     "data": {
      "text/plain": [
       "LinearRegression()"
      ]
     },
     "execution_count": 9,
     "metadata": {},
     "output_type": "execute_result"
    }
   ],
   "source": [
    "m=LinearRegression()\n",
    "m.fit(X_train,y_train)"
   ]
  },
  {
   "cell_type": "code",
   "execution_count": 10,
   "metadata": {},
   "outputs": [
    {
     "name": "stdout",
     "output_type": "stream",
     "text": [
      "[[754.40588319]\n",
      " [798.71235287]\n",
      " [795.07824942]\n",
      " [743.57927405]\n",
      " [829.4820455 ]\n",
      " [842.971888  ]\n",
      " [824.66560288]\n",
      " [819.38288804]\n",
      " [853.16453882]\n",
      " [836.00568628]\n",
      " [850.32137505]\n",
      " [809.50764   ]\n",
      " [865.09686812]\n",
      " [747.53742228]\n",
      " [836.37799812]\n",
      " [813.03267399]\n",
      " [868.59517571]\n",
      " [750.37950626]\n",
      " [807.90366731]\n",
      " [817.04218114]]\n"
     ]
    }
   ],
   "source": [
    "y_pred=m.predict(X_test)\n",
    "print(y_pred)"
   ]
  },
  {
   "cell_type": "code",
   "execution_count": 11,
   "metadata": {},
   "outputs": [
    {
     "name": "stdout",
     "output_type": "stream",
     "text": [
      "[[786.14]\n",
      " [786.9 ]\n",
      " [794.02]\n",
      " [806.15]\n",
      " [806.65]\n",
      " [804.79]\n",
      " [807.91]\n",
      " [806.36]\n",
      " [807.88]\n",
      " [804.61]\n",
      " [806.07]\n",
      " [802.17]\n",
      " [805.02]\n",
      " [819.31]\n",
      " [823.87]\n",
      " [835.67]\n",
      " [832.15]\n",
      " [823.31]\n",
      " [802.32]\n",
      " [796.79]]\n"
     ]
    }
   ],
   "source": [
    "print(y_test)"
   ]
  },
  {
   "cell_type": "code",
   "execution_count": 12,
   "metadata": {},
   "outputs": [
    {
     "name": "stdout",
     "output_type": "stream",
     "text": [
      "Root Mean Square Error : 38.1173040769204\n",
      "Root Mean Sqare Error(%) : 38.1173040769204 %\n"
     ]
    }
   ],
   "source": [
    "RMSE = ( mean_squared_error(y_test,y_pred))**0.5\n",
    "print('Root Mean Square Error :',RMSE)\n",
    "print('Root Mean Sqare Error(%) :',float(RMSE),\"%\")"
   ]
  },
  {
   "cell_type": "code",
   "execution_count": null,
   "metadata": {},
   "outputs": [],
   "source": []
  }
 ],
 "metadata": {
  "kernelspec": {
   "display_name": "Python 3",
   "language": "python",
   "name": "python3"
  },
  "language_info": {
   "codemirror_mode": {
    "name": "ipython",
    "version": 3
   },
   "file_extension": ".py",
   "mimetype": "text/x-python",
   "name": "python",
   "nbconvert_exporter": "python",
   "pygments_lexer": "ipython3",
   "version": "3.8.8"
  }
 },
 "nbformat": 4,
 "nbformat_minor": 4
}
